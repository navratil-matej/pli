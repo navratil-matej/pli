{
 "cells": [
  {
   "cell_type": "markdown",
   "id": "d244b9ce",
   "metadata": {},
   "source": [
    "# Čtvrté cvičení - vyhlazování jazykového modelu\n",
    "- Vytvořte bigramový jazykový model vyhlazený metodou Witten-Bell pro soubor TEXTEN1\n",
    "- Soubor přeuspořádejte tak, aby každá věta byla na jednom řádku (jako oddělovač vět použijte tečku, otazník a vykřičník).\n",
    "- Všechny slova převeďte na lowercase\n",
    "- Uvažujte na začátku věty startovací symbol <s>"
   ]
  },
  {
   "cell_type": "code",
   "execution_count": 5,
   "id": "3d1620f1-6b41-47f7-81b8-43dcbb7be105",
   "metadata": {},
   "outputs": [],
   "source": [
    "import re, string\n",
    "import numpy as np\n",
    "from collections import Counter"
   ]
  },
  {
   "cell_type": "code",
   "execution_count": 6,
   "id": "3c3dc7f0-cf93-450c-a8b1-e1dc71566c22",
   "metadata": {},
   "outputs": [],
   "source": [
    "with open('TEXTEN1.txt', \"r\") as f:\n",
    "    en_text = f.read().splitlines()"
   ]
  },
  {
   "cell_type": "code",
   "execution_count": 7,
   "id": "01badcc7-991a-4de0-9384-a3a1921b941b",
   "metadata": {},
   "outputs": [],
   "source": [
    "def sentences_unigram(text):\n",
    "    split_on = set('.?!')\n",
    "    sentences = [['<s>']]\n",
    "    for word in text:\n",
    "        if re.match(r'[\\w\\-]+', word):\n",
    "            sentences[-1].append(word.lower())\n",
    "        elif word in split_on:\n",
    "            sentences.append(['<s>'])\n",
    "    return sentences\n",
    "\n",
    "def unigram(sentences):\n",
    "    return Counter([\n",
    "        word\n",
    "        for sent in sentences\n",
    "        for word in sent\n",
    "    ])\n",
    "\n",
    "def sentences_bigram(text):\n",
    "    return [\n",
    "        sent + ['</s>']\n",
    "        for sent in sentences_unigram(text)\n",
    "    ]\n",
    "\n",
    "def bigram(sentences):\n",
    "    b_freq = Counter([\n",
    "        (w1, w2)\n",
    "        for sent in sentences\n",
    "        for (w1, w2) in zip(sent[:-1], sent[1:])\n",
    "    ])\n",
    "    return b_freq, unigram(sentences)\n",
    "\n",
    "def distinct(bi_model, uni_model):\n",
    "    uniq = {}\n",
    "    for (prev, this), count in bi_model.items():\n",
    "        if prev not in uniq:\n",
    "            uniq[prev] = 0\n",
    "        uniq[prev] += 1\n",
    "    return {\n",
    "        word: uniq.get(word, 0)\n",
    "        for word, count in uni_model.items()\n",
    "    }\n",
    "\n",
    "def witten_bell(bi_model, n, t):\n",
    "    z = Counter({\n",
    "        word: len(n) - count\n",
    "        for word, count in t.items()\n",
    "    })\n",
    "    return Counter({\n",
    "        f'{w1} {w2}':\n",
    "        t[w1] / z[w1] / (c1 + t[w1])\n",
    "        if bi_model[(w1, w2)] == 0\n",
    "        else bi_model[(w1, w2)] / (c1 + t[w1])\n",
    "        for w1, c1 in n.items()\n",
    "        for w2, c2 in n.items()\n",
    "    })"
   ]
  },
  {
   "cell_type": "code",
   "execution_count": 8,
   "id": "48c211a7-c840-4948-92cd-4f2fff652a41",
   "metadata": {},
   "outputs": [
    {
     "ename": "KeyboardInterrupt",
     "evalue": "",
     "output_type": "error",
     "traceback": [
      "\u001b[0;31m---------------------------------------------------------------------------\u001b[0m",
      "\u001b[0;31mKeyboardInterrupt\u001b[0m                         Traceback (most recent call last)",
      "Cell \u001b[0;32mIn[8], line 4\u001b[0m\n\u001b[1;32m      2\u001b[0m en_model, en_uni \u001b[38;5;241m=\u001b[39m bigram(en_sent)\n\u001b[1;32m      3\u001b[0m en_uniq \u001b[38;5;241m=\u001b[39m distinct(en_model, en_uni)\n\u001b[0;32m----> 4\u001b[0m en_bigram_model \u001b[38;5;241m=\u001b[39m \u001b[43mwitten_bell\u001b[49m\u001b[43m(\u001b[49m\u001b[43men_model\u001b[49m\u001b[43m,\u001b[49m\u001b[43m \u001b[49m\u001b[43men_uni\u001b[49m\u001b[43m,\u001b[49m\u001b[43m \u001b[49m\u001b[43men_uniq\u001b[49m\u001b[43m)\u001b[49m\n\u001b[1;32m      6\u001b[0m \u001b[38;5;28mprint\u001b[39m(en_bigram_model[\u001b[38;5;124m\"\u001b[39m\u001b[38;5;124mof the\u001b[39m\u001b[38;5;124m\"\u001b[39m])\n\u001b[1;32m      7\u001b[0m \u001b[38;5;66;03m#0.258387066629287\u001b[39;00m\n",
      "Cell \u001b[0;32mIn[7], line 48\u001b[0m, in \u001b[0;36mwitten_bell\u001b[0;34m(bi_model, n, t)\u001b[0m\n\u001b[1;32m     43\u001b[0m \u001b[38;5;28;01mdef\u001b[39;00m \u001b[38;5;21mwitten_bell\u001b[39m(bi_model, n, t):\n\u001b[1;32m     44\u001b[0m     z \u001b[38;5;241m=\u001b[39m Counter({\n\u001b[1;32m     45\u001b[0m         word: \u001b[38;5;28mlen\u001b[39m(n) \u001b[38;5;241m-\u001b[39m count\n\u001b[1;32m     46\u001b[0m         \u001b[38;5;28;01mfor\u001b[39;00m word, count \u001b[38;5;129;01min\u001b[39;00m t\u001b[38;5;241m.\u001b[39mitems()\n\u001b[1;32m     47\u001b[0m     })\n\u001b[0;32m---> 48\u001b[0m     \u001b[38;5;28;01mreturn\u001b[39;00m Counter(\u001b[43m{\u001b[49m\n\u001b[1;32m     49\u001b[0m \u001b[43m        \u001b[49m\u001b[38;5;124;43mf\u001b[39;49m\u001b[38;5;124;43m'\u001b[39;49m\u001b[38;5;132;43;01m{\u001b[39;49;00m\u001b[43mw1\u001b[49m\u001b[38;5;132;43;01m}\u001b[39;49;00m\u001b[38;5;124;43m \u001b[39;49m\u001b[38;5;132;43;01m{\u001b[39;49;00m\u001b[43mw2\u001b[49m\u001b[38;5;132;43;01m}\u001b[39;49;00m\u001b[38;5;124;43m'\u001b[39;49m\u001b[43m:\u001b[49m\n\u001b[1;32m     50\u001b[0m \u001b[43m        \u001b[49m\u001b[43mt\u001b[49m\u001b[43m[\u001b[49m\u001b[43mw1\u001b[49m\u001b[43m]\u001b[49m\u001b[43m \u001b[49m\u001b[38;5;241;43m/\u001b[39;49m\u001b[43m \u001b[49m\u001b[43mz\u001b[49m\u001b[43m[\u001b[49m\u001b[43mw1\u001b[49m\u001b[43m]\u001b[49m\u001b[43m \u001b[49m\u001b[38;5;241;43m/\u001b[39;49m\u001b[43m \u001b[49m\u001b[43m(\u001b[49m\u001b[43mc1\u001b[49m\u001b[43m \u001b[49m\u001b[38;5;241;43m+\u001b[39;49m\u001b[43m \u001b[49m\u001b[43mt\u001b[49m\u001b[43m[\u001b[49m\u001b[43mw1\u001b[49m\u001b[43m]\u001b[49m\u001b[43m)\u001b[49m\n\u001b[1;32m     51\u001b[0m \u001b[43m        \u001b[49m\u001b[38;5;28;43;01mif\u001b[39;49;00m\u001b[43m \u001b[49m\u001b[43mbi_model\u001b[49m\u001b[43m[\u001b[49m\u001b[43m(\u001b[49m\u001b[43mw1\u001b[49m\u001b[43m,\u001b[49m\u001b[43m \u001b[49m\u001b[43mw2\u001b[49m\u001b[43m)\u001b[49m\u001b[43m]\u001b[49m\u001b[43m \u001b[49m\u001b[38;5;241;43m==\u001b[39;49m\u001b[43m \u001b[49m\u001b[38;5;241;43m0\u001b[39;49m\n\u001b[1;32m     52\u001b[0m \u001b[43m        \u001b[49m\u001b[38;5;28;43;01melse\u001b[39;49;00m\u001b[43m \u001b[49m\u001b[43mbi_model\u001b[49m\u001b[43m[\u001b[49m\u001b[43m(\u001b[49m\u001b[43mw1\u001b[49m\u001b[43m,\u001b[49m\u001b[43m \u001b[49m\u001b[43mw2\u001b[49m\u001b[43m)\u001b[49m\u001b[43m]\u001b[49m\u001b[43m \u001b[49m\u001b[38;5;241;43m/\u001b[39;49m\u001b[43m \u001b[49m\u001b[43m(\u001b[49m\u001b[43mc1\u001b[49m\u001b[43m \u001b[49m\u001b[38;5;241;43m+\u001b[39;49m\u001b[43m \u001b[49m\u001b[43mt\u001b[49m\u001b[43m[\u001b[49m\u001b[43mw1\u001b[49m\u001b[43m]\u001b[49m\u001b[43m)\u001b[49m\n\u001b[1;32m     53\u001b[0m \u001b[43m        \u001b[49m\u001b[38;5;28;43;01mfor\u001b[39;49;00m\u001b[43m \u001b[49m\u001b[43mw1\u001b[49m\u001b[43m,\u001b[49m\u001b[43m \u001b[49m\u001b[43mc1\u001b[49m\u001b[43m \u001b[49m\u001b[38;5;129;43;01min\u001b[39;49;00m\u001b[43m \u001b[49m\u001b[43mn\u001b[49m\u001b[38;5;241;43m.\u001b[39;49m\u001b[43mitems\u001b[49m\u001b[43m(\u001b[49m\u001b[43m)\u001b[49m\n\u001b[1;32m     54\u001b[0m \u001b[43m        \u001b[49m\u001b[38;5;28;43;01mfor\u001b[39;49;00m\u001b[43m \u001b[49m\u001b[43mw2\u001b[49m\u001b[43m,\u001b[49m\u001b[43m \u001b[49m\u001b[43mc2\u001b[49m\u001b[43m \u001b[49m\u001b[38;5;129;43;01min\u001b[39;49;00m\u001b[43m \u001b[49m\u001b[43mn\u001b[49m\u001b[38;5;241;43m.\u001b[39;49m\u001b[43mitems\u001b[49m\u001b[43m(\u001b[49m\u001b[43m)\u001b[49m\n\u001b[1;32m     55\u001b[0m \u001b[43m    \u001b[49m\u001b[43m}\u001b[49m)\n",
      "Cell \u001b[0;32mIn[7], line 48\u001b[0m, in \u001b[0;36m<dictcomp>\u001b[0;34m(.0)\u001b[0m\n\u001b[1;32m     43\u001b[0m \u001b[38;5;28;01mdef\u001b[39;00m \u001b[38;5;21mwitten_bell\u001b[39m(bi_model, n, t):\n\u001b[1;32m     44\u001b[0m     z \u001b[38;5;241m=\u001b[39m Counter({\n\u001b[1;32m     45\u001b[0m         word: \u001b[38;5;28mlen\u001b[39m(n) \u001b[38;5;241m-\u001b[39m count\n\u001b[1;32m     46\u001b[0m         \u001b[38;5;28;01mfor\u001b[39;00m word, count \u001b[38;5;129;01min\u001b[39;00m t\u001b[38;5;241m.\u001b[39mitems()\n\u001b[1;32m     47\u001b[0m     })\n\u001b[0;32m---> 48\u001b[0m     \u001b[38;5;28;01mreturn\u001b[39;00m Counter({\n\u001b[1;32m     49\u001b[0m         \u001b[38;5;124mf\u001b[39m\u001b[38;5;124m'\u001b[39m\u001b[38;5;132;01m{\u001b[39;00mw1\u001b[38;5;132;01m}\u001b[39;00m\u001b[38;5;124m \u001b[39m\u001b[38;5;132;01m{\u001b[39;00mw2\u001b[38;5;132;01m}\u001b[39;00m\u001b[38;5;124m'\u001b[39m:\n\u001b[1;32m     50\u001b[0m         t[w1] \u001b[38;5;241m/\u001b[39m z[w1] \u001b[38;5;241m/\u001b[39m (c1 \u001b[38;5;241m+\u001b[39m t[w1])\n\u001b[1;32m     51\u001b[0m         \u001b[38;5;28;01mif\u001b[39;00m bi_model[(w1, w2)] \u001b[38;5;241m==\u001b[39m \u001b[38;5;241m0\u001b[39m\n\u001b[1;32m     52\u001b[0m         \u001b[38;5;28;01melse\u001b[39;00m bi_model[(w1, w2)] \u001b[38;5;241m/\u001b[39m (c1 \u001b[38;5;241m+\u001b[39m t[w1])\n\u001b[1;32m     53\u001b[0m         \u001b[38;5;28;01mfor\u001b[39;00m w1, c1 \u001b[38;5;129;01min\u001b[39;00m n\u001b[38;5;241m.\u001b[39mitems()\n\u001b[1;32m     54\u001b[0m         \u001b[38;5;28;01mfor\u001b[39;00m w2, c2 \u001b[38;5;129;01min\u001b[39;00m n\u001b[38;5;241m.\u001b[39mitems()\n\u001b[1;32m     55\u001b[0m     })\n",
      "File \u001b[0;32m~/anaconda3/envs/rebase/lib/python3.11/site-packages/spyder_kernels/console/shell.py:398\u001b[0m, in \u001b[0;36mSpyderShell.spyderkernel_sigint_handler\u001b[0;34m(self, signum, frame)\u001b[0m\n\u001b[1;32m    394\u001b[0m     \u001b[38;5;28;01mreturn\u001b[39;00m\n\u001b[1;32m    396\u001b[0m \u001b[38;5;28;01mif\u001b[39;00m \u001b[38;5;28mself\u001b[39m\u001b[38;5;241m.\u001b[39m_allow_kbdint:\n\u001b[1;32m    397\u001b[0m     \u001b[38;5;66;03m# Do not raise KeyboardInterrupt in the middle of ipython code\u001b[39;00m\n\u001b[0;32m--> 398\u001b[0m     \u001b[38;5;28;01mraise\u001b[39;00m \u001b[38;5;167;01mKeyboardInterrupt\u001b[39;00m\n",
      "\u001b[0;31mKeyboardInterrupt\u001b[0m: "
     ]
    }
   ],
   "source": [
    "en_sent = sentences_bigram(en_text)\n",
    "en_model, en_uni = bigram(en_sent)\n",
    "en_uniq = distinct(en_model, en_uni)\n",
    "en_bigram_model = witten_bell(en_model, en_uni, en_uniq)\n",
    "\n",
    "print(en_bigram_model[\"of the\"])\n",
    "#0.258387066629287\n",
    "print(en_bigram_model[\"of of\"])\n",
    "#1.6608937523330386e-05"
   ]
  },
  {
   "cell_type": "code",
   "execution_count": null,
   "id": "bec9cfe4-64e5-450c-a322-946820cd662a",
   "metadata": {},
   "outputs": [],
   "source": []
  }
 ],
 "metadata": {
  "kernelspec": {
   "display_name": "Python 3 (Spyder)",
   "language": "python3",
   "name": "python3"
  },
  "language_info": {
   "codemirror_mode": {
    "name": "ipython",
    "version": 3
   },
   "file_extension": ".py",
   "mimetype": "text/x-python",
   "name": "python",
   "nbconvert_exporter": "python",
   "pygments_lexer": "ipython3",
   "version": "3.11.10"
  }
 },
 "nbformat": 4,
 "nbformat_minor": 5
}
