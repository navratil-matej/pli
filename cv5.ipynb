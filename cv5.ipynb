{
 "cells": [
  {
   "cell_type": "markdown",
   "id": "d244b9ce",
   "metadata": {},
   "source": [
    "# Páté cvičení - word2vec\n",
    "Pro toto cvičení využijte již předtrénované GloVe (50) vektory.\n",
    "\n",
    "Vektory lze stáhnout [zde (GloVe link)](https://huggingface.co/stanfordnlp/glove/resolve/main/glove.6B.zip)\n",
    "\n",
    "V archivu se nachází několik variant o různých dimenzích. Využijte dimenzi vektorů 50.\n",
    "\n",
    "## Příprava dat\n",
    "\n",
    "- Načtěte data z txt souboru (vždy je na řádku slovo a jeho vektor)\n",
    "- Slova si uložete do matice o rozměrech n x 50 (n = počet slov)\n",
    "- Vytvořte slovník, který zjistí index pro každé slovo (např. word2idx[\"slovo\"])"
   ]
  },
  {
   "cell_type": "code",
   "execution_count": 1,
   "id": "00d188e5",
   "metadata": {},
   "outputs": [],
   "source": [
    "import numpy as np\n",
    "from numpy.linalg import norm"
   ]
  },
  {
   "cell_type": "code",
   "execution_count": 4,
   "id": "595a8708-24e6-421a-9a78-241a75ee041d",
   "metadata": {},
   "outputs": [
    {
     "name": "stdout",
     "output_type": "stream",
     "text": [
      "mkdir: cannot create directory ‘glove’: File exists\n",
      "--2025-03-18 10:05:56--  https://huggingface.co/stanfordnlp/glove/resolve/main/glove.6B.zip\n",
      "Resolving huggingface.co (huggingface.co)... 2600:9000:2127:e000:17:b174:6d00:93a1, 2600:9000:2127:ac00:17:b174:6d00:93a1, 2600:9000:2127:da00:17:b174:6d00:93a1, ...\n",
      "Connecting to huggingface.co (huggingface.co)|2600:9000:2127:e000:17:b174:6d00:93a1|:443... connected.\n",
      "HTTP request sent, awaiting response... 302 Found\n",
      "Location: https://cdn-lfs.hf.co/stanfordnlp/glove/6471382cdd837544bf3ac72497a38715e845897d265b2b424b4761832009c837?response-content-disposition=inline%3B+filename*%3DUTF-8%27%27glove.6B.zip%3B+filename%3D%22glove.6B.zip%22%3B&response-content-type=application%2Fzip&Expires=1742292357&Policy=eyJTdGF0ZW1lbnQiOlt7IkNvbmRpdGlvbiI6eyJEYXRlTGVzc1RoYW4iOnsiQVdTOkVwb2NoVGltZSI6MTc0MjI5MjM1N319LCJSZXNvdXJjZSI6Imh0dHBzOi8vY2RuLWxmcy5oZi5jby9zdGFuZm9yZG5scC9nbG92ZS82NDcxMzgyY2RkODM3NTQ0YmYzYWM3MjQ5N2EzODcxNWU4NDU4OTdkMjY1YjJiNDI0YjQ3NjE4MzIwMDljODM3P3Jlc3BvbnNlLWNvbnRlbnQtZGlzcG9zaXRpb249KiZyZXNwb25zZS1jb250ZW50LXR5cGU9KiJ9XX0_&Signature=ZrItR9GdKarmawjGLV4WP1OagEf0xBhNOwchVNFgi3fiz5qerDnDxceBIoLURJ4dPnVqUaOYKS6IgbukUfaJTKNg4yBaPqgEPZbhpcLgGPIUvRBqBTPFwmAN2OdyeY2dE3XpGBdWe3tWjwLPfKaT3Cfy%7ETzyYhXnpB0pcRAsRi9qYi3gLqLhzcqa16UjWflD4vicxUib43dAB3o5iOcQ3hnu5CRsRYOlSf8t1vhkujuN201JECQJTaU%7Eyc-siiCw09DTw8C4fEZMlSZJ8f0Nn354vOMyRllZeiX8SYDoPpjrMXQR16hdFqYE6BAFl-nCqIkf2CFuVFaYRpLO6eyoWw__&Key-Pair-Id=K3RPWS32NSSJCE [following]\n",
      "--2025-03-18 10:05:57--  https://cdn-lfs.hf.co/stanfordnlp/glove/6471382cdd837544bf3ac72497a38715e845897d265b2b424b4761832009c837?response-content-disposition=inline%3B+filename*%3DUTF-8%27%27glove.6B.zip%3B+filename%3D%22glove.6B.zip%22%3B&response-content-type=application%2Fzip&Expires=1742292357&Policy=eyJTdGF0ZW1lbnQiOlt7IkNvbmRpdGlvbiI6eyJEYXRlTGVzc1RoYW4iOnsiQVdTOkVwb2NoVGltZSI6MTc0MjI5MjM1N319LCJSZXNvdXJjZSI6Imh0dHBzOi8vY2RuLWxmcy5oZi5jby9zdGFuZm9yZG5scC9nbG92ZS82NDcxMzgyY2RkODM3NTQ0YmYzYWM3MjQ5N2EzODcxNWU4NDU4OTdkMjY1YjJiNDI0YjQ3NjE4MzIwMDljODM3P3Jlc3BvbnNlLWNvbnRlbnQtZGlzcG9zaXRpb249KiZyZXNwb25zZS1jb250ZW50LXR5cGU9KiJ9XX0_&Signature=ZrItR9GdKarmawjGLV4WP1OagEf0xBhNOwchVNFgi3fiz5qerDnDxceBIoLURJ4dPnVqUaOYKS6IgbukUfaJTKNg4yBaPqgEPZbhpcLgGPIUvRBqBTPFwmAN2OdyeY2dE3XpGBdWe3tWjwLPfKaT3Cfy%7ETzyYhXnpB0pcRAsRi9qYi3gLqLhzcqa16UjWflD4vicxUib43dAB3o5iOcQ3hnu5CRsRYOlSf8t1vhkujuN201JECQJTaU%7Eyc-siiCw09DTw8C4fEZMlSZJ8f0Nn354vOMyRllZeiX8SYDoPpjrMXQR16hdFqYE6BAFl-nCqIkf2CFuVFaYRpLO6eyoWw__&Key-Pair-Id=K3RPWS32NSSJCE\n",
      "Resolving cdn-lfs.hf.co (cdn-lfs.hf.co)... 65.9.95.41, 65.9.95.116, 65.9.95.126, ...\n",
      "Connecting to cdn-lfs.hf.co (cdn-lfs.hf.co)|65.9.95.41|:443... connected.\n",
      "HTTP request sent, awaiting response... 200 OK\n",
      "Length: 862182753 (822M) [application/zip]\n",
      "Saving to: ‘glove.6B.zip.1’\n",
      "\n",
      "glove.6B.zip.1      100%[===================>] 822,24M  7,90MB/s    in 61s     \n",
      "\n",
      "2025-03-18 10:06:57 (13,6 MB/s) - ‘glove.6B.zip.1’ saved [862182753/862182753]\n",
      "\n"
     ]
    }
   ],
   "source": [
    "! mkdir glove\n",
    "! wget https://huggingface.co/stanfordnlp/glove/resolve/main/glove.6B.zip"
   ]
  },
  {
   "cell_type": "code",
   "execution_count": 2,
   "id": "f00eba8e-e52d-485f-9cbc-7d1cbae51f34",
   "metadata": {},
   "outputs": [
    {
     "name": "stdout",
     "output_type": "stream",
     "text": [
      "Archive:  glove.6B.zip\n",
      "  inflating: glove.6B.50d.txt        \n",
      "caution: filename not matched:  -X\n"
     ]
    }
   ],
   "source": [
    "! unzip glove.6B.zip glove.6B.50d.txt"
   ]
  },
  {
   "cell_type": "code",
   "execution_count": 51,
   "id": "2294128e",
   "metadata": {},
   "outputs": [],
   "source": [
    "# Načtení dat ze souborů\n",
    "with open(\"glove.6B.50d.txt\", \"r\", encoding=\"utf-8\") as f:\n",
    "    vectors = f.read()\n",
    "    vectors = vectors.splitlines()"
   ]
  },
  {
   "cell_type": "code",
   "execution_count": 52,
   "id": "91ff11af",
   "metadata": {},
   "outputs": [],
   "source": [
    "# Uložení každého slova do slovníku a jeho příslušného vektoru\n",
    "word2idx = dict()\n",
    "idx2word = list()\n",
    "matrix = np.zeros((len(vectors), 50))\n",
    "\n",
    "idx = 0\n",
    "for v in vectors:\n",
    "    data : list = v.split(\" \")\n",
    "    word : str = data[0]\n",
    "    vector : list = [float(i) for i in data[1:]]\n",
    "    if(len(vector) > 1):\n",
    "        word2idx[word] = idx\n",
    "        idx2word += [word]\n",
    "        matrix[idx,0:] = vector\n",
    "        idx += 1\n",
    "  "
   ]
  },
  {
   "cell_type": "markdown",
   "id": "509f807c",
   "metadata": {},
   "source": [
    "## Kosinová podobnost\n",
    "Vytvořte funkci, která bude vracit kosinovou podobnost dvou vektorů\n",
    "<br>\n",
    "<br>\n",
    "$\n",
    "similarity(a,b) = cos(\\theta) = \\frac{a \\cdot b}{\\lVert a \\lVert \\lVert b \\lVert}\n",
    "$"
   ]
  },
  {
   "cell_type": "code",
   "execution_count": 53,
   "id": "ead28457",
   "metadata": {},
   "outputs": [],
   "source": [
    "def cossim(A,B):\n",
    "    return A @ B / norm(A, axis=-1) / norm(B, axis=0)"
   ]
  },
  {
   "cell_type": "code",
   "execution_count": 54,
   "id": "fb3c00e5",
   "metadata": {},
   "outputs": [
    {
     "name": "stdout",
     "output_type": "stream",
     "text": [
      "0.6934045343089016\n"
     ]
    }
   ],
   "source": [
    "prague_idx = word2idx[\"prague\"]\n",
    "czech_idx = word2idx[\"czech\"]\n",
    "similarity = cossim(matrix[prague_idx], matrix[czech_idx])\n",
    "print(similarity)\n",
    "\n",
    "# Očekávané výsledky\n",
    "# similarity = 0.6934045343089018"
   ]
  },
  {
   "cell_type": "markdown",
   "id": "9f76c451",
   "metadata": {},
   "source": [
    "## Nalezení podobných slov\n",
    "Vytvořte funkci, která vrátí 10 nejpodobnějších slov."
   ]
  },
  {
   "cell_type": "code",
   "execution_count": 68,
   "id": "a8487250",
   "metadata": {},
   "outputs": [],
   "source": [
    "def most_similar(A):\n",
    "    A = matrix[word2idx[A]]\n",
    "    B = matrix.T\n",
    "    sims = cossim(A, B)\n",
    "    idx = np.argsort(sims)[::-1]\n",
    "    return {\n",
    "        idx2word[i]: sims[i]\n",
    "        for i in idx[1:11]\n",
    "    }"
   ]
  },
  {
   "cell_type": "code",
   "execution_count": 69,
   "id": "69dc9b08",
   "metadata": {},
   "outputs": [
    {
     "data": {
      "text/plain": [
       "{'horrible': 0.9373438294745688,\n",
       " 'awful': 0.8872899998451528,\n",
       " 'tragic': 0.8339797859732645,\n",
       " 'dreadful': 0.8279697448704044,\n",
       " 'tragedy': 0.8180269496589326,\n",
       " 'horrific': 0.8108952997029031,\n",
       " 'nightmare': 0.7994893093099843,\n",
       " 'unfortunate': 0.7938124514408333,\n",
       " 'horrendous': 0.7856658154073574,\n",
       " 'unfortunately': 0.7838044061147325}"
      ]
     },
     "execution_count": 69,
     "metadata": {},
     "output_type": "execute_result"
    }
   ],
   "source": [
    "most_similar(\"terrible\")"
   ]
  },
  {
   "cell_type": "markdown",
   "id": "f3882f60",
   "metadata": {},
   "source": [
    "Očekávaný výsledek:\n",
    "\n",
    "    [('horrible', 0.9373438294745691),\n",
    "     ('awful', 0.8872899998451529),\n",
    "     ('tragic', 0.8339797859732649),\n",
    "     ('dreadful', 0.8279697448704045),\n",
    "     ('tragedy', 0.8180269496589323),\n",
    "     ('horrific', 0.810895299702903),\n",
    "     ('nightmare', 0.7994893093099841),\n",
    "     ('unfortunate', 0.7938124514408333),\n",
    "     ('horrendous', 0.7856658154073575),\n",
    "     ('unfortunately', 0.7838044061147322)]\n"
   ]
  },
  {
   "cell_type": "markdown",
   "id": "fbda8e53",
   "metadata": {},
   "source": [
    "## Sčítání a odčítání vektorů a jejich využití\n",
    "\n",
    "Jak se vektory slov dají sčítat a odčítat naleznete [zde](https://medium.com/analytics-vidhya/ideas-for-using-word2vec-in-human-learning-tasks-1c5dabbeb72e)"
   ]
  },
  {
   "cell_type": "code",
   "execution_count": 70,
   "id": "504c504e",
   "metadata": {},
   "outputs": [
    {
     "data": {
      "text/plain": [
       "{'rome': 0.852226793994773,\n",
       " 'venice': 0.8517536858634684,\n",
       " 'italy': 0.7876652944646821,\n",
       " 'naples': 0.767179898217344,\n",
       " 'lisbon': 0.7613592589119934,\n",
       " 'turin': 0.7429368578810202,\n",
       " 'genoa': 0.7340990394824866,\n",
       " 'bologna': 0.7277822010059736,\n",
       " 'italian': 0.7189798949114362,\n",
       " 'milan': 0.7114141133788309}"
      ]
     },
     "execution_count": 70,
     "metadata": {},
     "output_type": "execute_result"
    }
   ],
   "source": [
    "# Pomocí sčítání a odčítání vektorů nalezněte chybějící slovo ve výrazu “Berlin is to Germany as … is to Italy”\n",
    "def most_similar_2(A):\n",
    "    B = matrix.T\n",
    "    sims = cossim(A, B)\n",
    "    idx = np.argsort(sims)[::-1]\n",
    "    return {\n",
    "        idx2word[i]: sims[i]\n",
    "        for i in idx[:10]\n",
    "    }\n",
    "\n",
    "berlin = matrix[word2idx['berlin']]\n",
    "germany = matrix[word2idx['germany']]\n",
    "italy = matrix[word2idx['italy']]\n",
    "most_similar_2(berlin - germany + italy)\n",
    "# Očekávaný výsledek: ('rome')"
   ]
  },
  {
   "cell_type": "code",
   "execution_count": null,
   "id": "cdb9a6db",
   "metadata": {},
   "outputs": [],
   "source": []
  }
 ],
 "metadata": {
  "kernelspec": {
   "display_name": "Python 3 (Spyder)",
   "language": "python3",
   "name": "python3"
  },
  "language_info": {
   "codemirror_mode": {
    "name": "ipython",
    "version": 3
   },
   "file_extension": ".py",
   "mimetype": "text/x-python",
   "name": "python",
   "nbconvert_exporter": "python",
   "pygments_lexer": "ipython3",
   "version": "3.11.10"
  }
 },
 "nbformat": 4,
 "nbformat_minor": 5
}
